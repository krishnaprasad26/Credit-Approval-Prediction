{
 "cells": [
  {
   "cell_type": "markdown",
   "id": "6bfa1f1c",
   "metadata": {
    "_cell_guid": "b1076dfc-b9ad-4769-8c92-a6c4dae69d19",
    "_uuid": "8f2839f25d086af736a60e9eeb907d3b93b6e0e5",
    "papermill": {
     "duration": 0.005846,
     "end_time": "2024-07-11T05:51:35.022998",
     "exception": false,
     "start_time": "2024-07-11T05:51:35.017152",
     "status": "completed"
    },
    "tags": []
   },
   "source": [
    "# Introduction\n",
    "\n",
    "One practical application is in commercial banking, where banks handle numerous credit card applications daily. These applications often get rejected for reasons like high loan balances or low income, making manual analysis tedious and error-prone. Luckily, machine learning can automate this process efficiently. In this workbook, I'll build an automatic credit card approval predictor, mimicking the systems used by banks. The dataset, a subset of the Credit Card Approval dataset from the UCI Machine Learning Repository, is loaded as cc_apps, with the last column indicating approval status."
   ]
  },
  {
   "cell_type": "markdown",
   "id": "1ba16731",
   "metadata": {
    "papermill": {
     "duration": 0.004834,
     "end_time": "2024-07-11T05:51:35.033052",
     "exception": false,
     "start_time": "2024-07-11T05:51:35.028218",
     "status": "completed"
    },
    "tags": []
   },
   "source": [
    "# Import necessary libraries"
   ]
  },
  {
   "cell_type": "code",
   "execution_count": 1,
   "id": "93b7f34b",
   "metadata": {
    "execution": {
     "iopub.execute_input": "2024-07-11T05:51:35.044758Z",
     "iopub.status.busy": "2024-07-11T05:51:35.044382Z",
     "iopub.status.idle": "2024-07-11T05:51:37.143765Z",
     "shell.execute_reply": "2024-07-11T05:51:37.141855Z"
    },
    "papermill": {
     "duration": 2.108575,
     "end_time": "2024-07-11T05:51:37.146538",
     "exception": false,
     "start_time": "2024-07-11T05:51:35.037963",
     "status": "completed"
    },
    "tags": []
   },
   "outputs": [],
   "source": [
    "# Import necessary libraries\n",
    "import pandas as pd\n",
    "import numpy as np\n",
    "from sklearn.model_selection import train_test_split\n",
    "from sklearn.preprocessing import StandardScaler\n",
    "from sklearn.linear_model import LogisticRegression\n",
    "from sklearn.metrics import confusion_matrix\n",
    "from sklearn.model_selection import GridSearchCV\n"
   ]
  },
  {
   "cell_type": "markdown",
   "id": "59c10cba",
   "metadata": {
    "papermill": {
     "duration": 0.004777,
     "end_time": "2024-07-11T05:51:37.156848",
     "exception": false,
     "start_time": "2024-07-11T05:51:37.152071",
     "status": "completed"
    },
    "tags": []
   },
   "source": [
    "# Load the dataset"
   ]
  },
  {
   "cell_type": "code",
   "execution_count": 2,
   "id": "dfdd1def",
   "metadata": {
    "execution": {
     "iopub.execute_input": "2024-07-11T05:51:37.169757Z",
     "iopub.status.busy": "2024-07-11T05:51:37.169208Z",
     "iopub.status.idle": "2024-07-11T05:51:37.209860Z",
     "shell.execute_reply": "2024-07-11T05:51:37.208538Z"
    },
    "papermill": {
     "duration": 0.050132,
     "end_time": "2024-07-11T05:51:37.212456",
     "exception": false,
     "start_time": "2024-07-11T05:51:37.162324",
     "status": "completed"
    },
    "tags": []
   },
   "outputs": [
    {
     "name": "stdout",
     "output_type": "stream",
     "text": [
      "  0      1      2  3  4  5  6     7  8  9   10 11   12 13\n",
      "0  b  30.83  0.000  u  g  w  v  1.25  t  t   1  g    0  +\n",
      "1  a  58.67  4.460  u  g  q  h  3.04  t  t   6  g  560  +\n",
      "2  a  24.50  0.500  u  g  q  h  1.50  t  f   0  g  824  +\n",
      "3  b  27.83  1.540  u  g  w  v  3.75  t  t   5  g    3  +\n",
      "4  b  20.17  5.625  u  g  w  v  1.71  t  f   0  s    0  +\n"
     ]
    }
   ],
   "source": [
    "# Load the dataset\n",
    "cc_apps = pd.read_csv(\"/kaggle/input/credit-card-details/cc_approvals.data\", header=None) \n",
    "\n",
    "# Display the first few rows of the dataset\n",
    "print(cc_apps.head())"
   ]
  },
  {
   "cell_type": "markdown",
   "id": "2434a1a5",
   "metadata": {
    "papermill": {
     "duration": 0.005021,
     "end_time": "2024-07-11T05:51:37.223251",
     "exception": false,
     "start_time": "2024-07-11T05:51:37.218230",
     "status": "completed"
    },
    "tags": []
   },
   "source": [
    "# Replace missing values"
   ]
  },
  {
   "cell_type": "code",
   "execution_count": 3,
   "id": "1ec7ff34",
   "metadata": {
    "execution": {
     "iopub.execute_input": "2024-07-11T05:51:37.235330Z",
     "iopub.status.busy": "2024-07-11T05:51:37.234961Z",
     "iopub.status.idle": "2024-07-11T05:51:37.242406Z",
     "shell.execute_reply": "2024-07-11T05:51:37.241540Z"
    },
    "papermill": {
     "duration": 0.015869,
     "end_time": "2024-07-11T05:51:37.244343",
     "exception": false,
     "start_time": "2024-07-11T05:51:37.228474",
     "status": "completed"
    },
    "tags": []
   },
   "outputs": [],
   "source": [
    "# Replace the '?'s with NaN in dataset\n",
    "cc_apps_nans_replaced = cc_apps.replace(\"?\", np.NaN)\n"
   ]
  },
  {
   "cell_type": "markdown",
   "id": "4ec6703f",
   "metadata": {
    "papermill": {
     "duration": 0.004992,
     "end_time": "2024-07-11T05:51:37.254951",
     "exception": false,
     "start_time": "2024-07-11T05:51:37.249959",
     "status": "completed"
    },
    "tags": []
   },
   "source": [
    "# Create a copy of the DataFrame and Impute Missing Values"
   ]
  },
  {
   "cell_type": "code",
   "execution_count": 4,
   "id": "69931153",
   "metadata": {
    "execution": {
     "iopub.execute_input": "2024-07-11T05:51:37.266946Z",
     "iopub.status.busy": "2024-07-11T05:51:37.266539Z",
     "iopub.status.idle": "2024-07-11T05:51:37.288044Z",
     "shell.execute_reply": "2024-07-11T05:51:37.287030Z"
    },
    "papermill": {
     "duration": 0.030548,
     "end_time": "2024-07-11T05:51:37.290530",
     "exception": false,
     "start_time": "2024-07-11T05:51:37.259982",
     "status": "completed"
    },
    "tags": []
   },
   "outputs": [],
   "source": [
    "# Create a copy of the NaN replacement DataFrame\n",
    "cc_apps_imputed = cc_apps_nans_replaced.copy()\n",
    "\n",
    "# Iterate over each column of cc_apps_nans_replaced and impute the most frequent value for object data types and the mean for numeric data types\n",
    "for col in cc_apps_imputed.columns:\n",
    "    # Check if the column is of object type\n",
    "    if cc_apps_imputed[col].dtypes == \"object\":\n",
    "        # Impute with the most frequent value\n",
    "        cc_apps_imputed[col] = cc_apps_imputed[col].fillna(\n",
    "            cc_apps_imputed[col].value_counts().index[0]\n",
    "        )\n",
    "    else:\n",
    "        cc_apps_imputed[col] = cc_apps_imputed[col].fillna(cc_apps_imputed[col].mean())\n"
   ]
  },
  {
   "cell_type": "markdown",
   "id": "570b17cf",
   "metadata": {
    "papermill": {
     "duration": 0.005024,
     "end_time": "2024-07-11T05:51:37.300916",
     "exception": false,
     "start_time": "2024-07-11T05:51:37.295892",
     "status": "completed"
    },
    "tags": []
   },
   "source": [
    "# Encode Categorical Features"
   ]
  },
  {
   "cell_type": "code",
   "execution_count": 5,
   "id": "3420456e",
   "metadata": {
    "execution": {
     "iopub.execute_input": "2024-07-11T05:51:37.313360Z",
     "iopub.status.busy": "2024-07-11T05:51:37.312993Z",
     "iopub.status.idle": "2024-07-11T05:51:37.332547Z",
     "shell.execute_reply": "2024-07-11T05:51:37.331562Z"
    },
    "papermill": {
     "duration": 0.028735,
     "end_time": "2024-07-11T05:51:37.334901",
     "exception": false,
     "start_time": "2024-07-11T05:51:37.306166",
     "status": "completed"
    },
    "tags": []
   },
   "outputs": [],
   "source": [
    "# Dummify the categorical features\n",
    "cc_apps_encoded = pd.get_dummies(cc_apps_imputed, drop_first=True)\n"
   ]
  },
  {
   "cell_type": "markdown",
   "id": "841e2413",
   "metadata": {
    "papermill": {
     "duration": 0.004953,
     "end_time": "2024-07-11T05:51:37.345294",
     "exception": false,
     "start_time": "2024-07-11T05:51:37.340341",
     "status": "completed"
    },
    "tags": []
   },
   "source": [
    "# Split Data into Features and Target Variable"
   ]
  },
  {
   "cell_type": "code",
   "execution_count": 6,
   "id": "4db466b2",
   "metadata": {
    "execution": {
     "iopub.execute_input": "2024-07-11T05:51:37.357397Z",
     "iopub.status.busy": "2024-07-11T05:51:37.356989Z",
     "iopub.status.idle": "2024-07-11T05:51:37.372848Z",
     "shell.execute_reply": "2024-07-11T05:51:37.371663Z"
    },
    "papermill": {
     "duration": 0.02445,
     "end_time": "2024-07-11T05:51:37.374978",
     "exception": false,
     "start_time": "2024-07-11T05:51:37.350528",
     "status": "completed"
    },
    "tags": []
   },
   "outputs": [],
   "source": [
    "# Extract the last column as your target variable\n",
    "X = cc_apps_encoded.iloc[:, :-1].values\n",
    "y = cc_apps_encoded.iloc[:, [-1]].values\n"
   ]
  },
  {
   "cell_type": "markdown",
   "id": "df29b058",
   "metadata": {
    "papermill": {
     "duration": 0.005026,
     "end_time": "2024-07-11T05:51:37.385365",
     "exception": false,
     "start_time": "2024-07-11T05:51:37.380339",
     "status": "completed"
    },
    "tags": []
   },
   "source": [
    "# Split into Train and Test Sets"
   ]
  },
  {
   "cell_type": "code",
   "execution_count": 7,
   "id": "c334e0c9",
   "metadata": {
    "execution": {
     "iopub.execute_input": "2024-07-11T05:51:37.397335Z",
     "iopub.status.busy": "2024-07-11T05:51:37.396985Z",
     "iopub.status.idle": "2024-07-11T05:51:37.407915Z",
     "shell.execute_reply": "2024-07-11T05:51:37.406554Z"
    },
    "papermill": {
     "duration": 0.019875,
     "end_time": "2024-07-11T05:51:37.410390",
     "exception": false,
     "start_time": "2024-07-11T05:51:37.390515",
     "status": "completed"
    },
    "tags": []
   },
   "outputs": [],
   "source": [
    "# Split into train and test sets\n",
    "X_train, X_test, y_train, y_test = train_test_split(X, y, test_size=0.33, random_state=42)\n"
   ]
  },
  {
   "cell_type": "markdown",
   "id": "4dc91307",
   "metadata": {
    "papermill": {
     "duration": 0.004929,
     "end_time": "2024-07-11T05:51:37.420737",
     "exception": false,
     "start_time": "2024-07-11T05:51:37.415808",
     "status": "completed"
    },
    "tags": []
   },
   "source": [
    "# Rescale the Features"
   ]
  },
  {
   "cell_type": "code",
   "execution_count": 8,
   "id": "6656b7c4",
   "metadata": {
    "execution": {
     "iopub.execute_input": "2024-07-11T05:51:37.433534Z",
     "iopub.status.busy": "2024-07-11T05:51:37.432867Z",
     "iopub.status.idle": "2024-07-11T05:51:37.457365Z",
     "shell.execute_reply": "2024-07-11T05:51:37.456171Z"
    },
    "papermill": {
     "duration": 0.033196,
     "end_time": "2024-07-11T05:51:37.459695",
     "exception": false,
     "start_time": "2024-07-11T05:51:37.426499",
     "status": "completed"
    },
    "tags": []
   },
   "outputs": [],
   "source": [
    "# Instantiate StandardScaler and use it to rescale X_train and X_test\n",
    "scaler = StandardScaler()\n",
    "rescaledX_train = scaler.fit_transform(X_train)\n",
    "rescaledX_test = scaler.transform(X_test)\n"
   ]
  },
  {
   "cell_type": "markdown",
   "id": "33c87368",
   "metadata": {
    "papermill": {
     "duration": 0.004953,
     "end_time": "2024-07-11T05:51:37.469901",
     "exception": false,
     "start_time": "2024-07-11T05:51:37.464948",
     "status": "completed"
    },
    "tags": []
   },
   "source": [
    "# Train the Logistic Regression Model"
   ]
  },
  {
   "cell_type": "code",
   "execution_count": 9,
   "id": "593614a7",
   "metadata": {
    "execution": {
     "iopub.execute_input": "2024-07-11T05:51:37.481906Z",
     "iopub.status.busy": "2024-07-11T05:51:37.481533Z",
     "iopub.status.idle": "2024-07-11T05:51:37.520254Z",
     "shell.execute_reply": "2024-07-11T05:51:37.518744Z"
    },
    "papermill": {
     "duration": 0.048191,
     "end_time": "2024-07-11T05:51:37.523108",
     "exception": false,
     "start_time": "2024-07-11T05:51:37.474917",
     "status": "completed"
    },
    "tags": []
   },
   "outputs": [
    {
     "name": "stderr",
     "output_type": "stream",
     "text": [
      "/opt/conda/lib/python3.10/site-packages/sklearn/utils/validation.py:1143: DataConversionWarning: A column-vector y was passed when a 1d array was expected. Please change the shape of y to (n_samples, ), for example using ravel().\n",
      "  y = column_or_1d(y, warn=True)\n"
     ]
    },
    {
     "data": {
      "text/html": [
       "<style>#sk-container-id-1 {color: black;background-color: white;}#sk-container-id-1 pre{padding: 0;}#sk-container-id-1 div.sk-toggleable {background-color: white;}#sk-container-id-1 label.sk-toggleable__label {cursor: pointer;display: block;width: 100%;margin-bottom: 0;padding: 0.3em;box-sizing: border-box;text-align: center;}#sk-container-id-1 label.sk-toggleable__label-arrow:before {content: \"▸\";float: left;margin-right: 0.25em;color: #696969;}#sk-container-id-1 label.sk-toggleable__label-arrow:hover:before {color: black;}#sk-container-id-1 div.sk-estimator:hover label.sk-toggleable__label-arrow:before {color: black;}#sk-container-id-1 div.sk-toggleable__content {max-height: 0;max-width: 0;overflow: hidden;text-align: left;background-color: #f0f8ff;}#sk-container-id-1 div.sk-toggleable__content pre {margin: 0.2em;color: black;border-radius: 0.25em;background-color: #f0f8ff;}#sk-container-id-1 input.sk-toggleable__control:checked~div.sk-toggleable__content {max-height: 200px;max-width: 100%;overflow: auto;}#sk-container-id-1 input.sk-toggleable__control:checked~label.sk-toggleable__label-arrow:before {content: \"▾\";}#sk-container-id-1 div.sk-estimator input.sk-toggleable__control:checked~label.sk-toggleable__label {background-color: #d4ebff;}#sk-container-id-1 div.sk-label input.sk-toggleable__control:checked~label.sk-toggleable__label {background-color: #d4ebff;}#sk-container-id-1 input.sk-hidden--visually {border: 0;clip: rect(1px 1px 1px 1px);clip: rect(1px, 1px, 1px, 1px);height: 1px;margin: -1px;overflow: hidden;padding: 0;position: absolute;width: 1px;}#sk-container-id-1 div.sk-estimator {font-family: monospace;background-color: #f0f8ff;border: 1px dotted black;border-radius: 0.25em;box-sizing: border-box;margin-bottom: 0.5em;}#sk-container-id-1 div.sk-estimator:hover {background-color: #d4ebff;}#sk-container-id-1 div.sk-parallel-item::after {content: \"\";width: 100%;border-bottom: 1px solid gray;flex-grow: 1;}#sk-container-id-1 div.sk-label:hover label.sk-toggleable__label {background-color: #d4ebff;}#sk-container-id-1 div.sk-serial::before {content: \"\";position: absolute;border-left: 1px solid gray;box-sizing: border-box;top: 0;bottom: 0;left: 50%;z-index: 0;}#sk-container-id-1 div.sk-serial {display: flex;flex-direction: column;align-items: center;background-color: white;padding-right: 0.2em;padding-left: 0.2em;position: relative;}#sk-container-id-1 div.sk-item {position: relative;z-index: 1;}#sk-container-id-1 div.sk-parallel {display: flex;align-items: stretch;justify-content: center;background-color: white;position: relative;}#sk-container-id-1 div.sk-item::before, #sk-container-id-1 div.sk-parallel-item::before {content: \"\";position: absolute;border-left: 1px solid gray;box-sizing: border-box;top: 0;bottom: 0;left: 50%;z-index: -1;}#sk-container-id-1 div.sk-parallel-item {display: flex;flex-direction: column;z-index: 1;position: relative;background-color: white;}#sk-container-id-1 div.sk-parallel-item:first-child::after {align-self: flex-end;width: 50%;}#sk-container-id-1 div.sk-parallel-item:last-child::after {align-self: flex-start;width: 50%;}#sk-container-id-1 div.sk-parallel-item:only-child::after {width: 0;}#sk-container-id-1 div.sk-dashed-wrapped {border: 1px dashed gray;margin: 0 0.4em 0.5em 0.4em;box-sizing: border-box;padding-bottom: 0.4em;background-color: white;}#sk-container-id-1 div.sk-label label {font-family: monospace;font-weight: bold;display: inline-block;line-height: 1.2em;}#sk-container-id-1 div.sk-label-container {text-align: center;}#sk-container-id-1 div.sk-container {/* jupyter's `normalize.less` sets `[hidden] { display: none; }` but bootstrap.min.css set `[hidden] { display: none !important; }` so we also need the `!important` here to be able to override the default hidden behavior on the sphinx rendered scikit-learn.org. See: https://github.com/scikit-learn/scikit-learn/issues/21755 */display: inline-block !important;position: relative;}#sk-container-id-1 div.sk-text-repr-fallback {display: none;}</style><div id=\"sk-container-id-1\" class=\"sk-top-container\"><div class=\"sk-text-repr-fallback\"><pre>LogisticRegression()</pre><b>In a Jupyter environment, please rerun this cell to show the HTML representation or trust the notebook. <br />On GitHub, the HTML representation is unable to render, please try loading this page with nbviewer.org.</b></div><div class=\"sk-container\" hidden><div class=\"sk-item\"><div class=\"sk-estimator sk-toggleable\"><input class=\"sk-toggleable__control sk-hidden--visually\" id=\"sk-estimator-id-1\" type=\"checkbox\" checked><label for=\"sk-estimator-id-1\" class=\"sk-toggleable__label sk-toggleable__label-arrow\">LogisticRegression</label><div class=\"sk-toggleable__content\"><pre>LogisticRegression()</pre></div></div></div></div></div>"
      ],
      "text/plain": [
       "LogisticRegression()"
      ]
     },
     "execution_count": 9,
     "metadata": {},
     "output_type": "execute_result"
    }
   ],
   "source": [
    "# Instantiate a LogisticRegression classifier with default parameter values\n",
    "logreg = LogisticRegression()\n",
    "\n",
    "# Fit logreg to the train set\n",
    "logreg.fit(rescaledX_train, y_train)\n"
   ]
  },
  {
   "cell_type": "markdown",
   "id": "47ac04fa",
   "metadata": {
    "papermill": {
     "duration": 0.006837,
     "end_time": "2024-07-11T05:51:37.536997",
     "exception": false,
     "start_time": "2024-07-11T05:51:37.530160",
     "status": "completed"
    },
    "tags": []
   },
   "source": [
    "# Evaluate the Model"
   ]
  },
  {
   "cell_type": "code",
   "execution_count": 10,
   "id": "72b46d54",
   "metadata": {
    "execution": {
     "iopub.execute_input": "2024-07-11T05:51:37.553849Z",
     "iopub.status.busy": "2024-07-11T05:51:37.552924Z",
     "iopub.status.idle": "2024-07-11T05:51:37.560506Z",
     "shell.execute_reply": "2024-07-11T05:51:37.559384Z"
    },
    "papermill": {
     "duration": 0.018291,
     "end_time": "2024-07-11T05:51:37.562291",
     "exception": false,
     "start_time": "2024-07-11T05:51:37.544000",
     "status": "completed"
    },
    "tags": []
   },
   "outputs": [
    {
     "name": "stdout",
     "output_type": "stream",
     "text": [
      "[[203   1]\n",
      " [  1 257]]\n"
     ]
    }
   ],
   "source": [
    "# Use logreg to predict instances from the training set\n",
    "y_train_pred = logreg.predict(rescaledX_train)\n",
    "\n",
    "# Print the confusion matrix of the logreg model\n",
    "print(confusion_matrix(y_train, y_train_pred))\n"
   ]
  },
  {
   "cell_type": "markdown",
   "id": "c8b11b97",
   "metadata": {
    "papermill": {
     "duration": 0.007113,
     "end_time": "2024-07-11T05:51:37.577032",
     "exception": false,
     "start_time": "2024-07-11T05:51:37.569919",
     "status": "completed"
    },
    "tags": []
   },
   "source": [
    "# Perform Grid Search for Hyperparameter Tuning"
   ]
  },
  {
   "cell_type": "code",
   "execution_count": 11,
   "id": "09073e60",
   "metadata": {
    "execution": {
     "iopub.execute_input": "2024-07-11T05:51:37.594860Z",
     "iopub.status.busy": "2024-07-11T05:51:37.594221Z",
     "iopub.status.idle": "2024-07-11T05:51:37.600021Z",
     "shell.execute_reply": "2024-07-11T05:51:37.599071Z"
    },
    "papermill": {
     "duration": 0.01785,
     "end_time": "2024-07-11T05:51:37.602013",
     "exception": false,
     "start_time": "2024-07-11T05:51:37.584163",
     "status": "completed"
    },
    "tags": []
   },
   "outputs": [],
   "source": [
    "import warnings\n",
    "\n",
    "# Suppress all warnings\n",
    "warnings.filterwarnings(\"ignore\")\n"
   ]
  },
  {
   "cell_type": "code",
   "execution_count": 12,
   "id": "926b2258",
   "metadata": {
    "execution": {
     "iopub.execute_input": "2024-07-11T05:51:37.617992Z",
     "iopub.status.busy": "2024-07-11T05:51:37.617612Z",
     "iopub.status.idle": "2024-07-11T05:51:38.369427Z",
     "shell.execute_reply": "2024-07-11T05:51:38.368405Z"
    },
    "papermill": {
     "duration": 0.762226,
     "end_time": "2024-07-11T05:51:38.371412",
     "exception": false,
     "start_time": "2024-07-11T05:51:37.609186",
     "status": "completed"
    },
    "tags": []
   },
   "outputs": [
    {
     "name": "stdout",
     "output_type": "stream",
     "text": [
      "Best: 0.818163 using {'max_iter': 100, 'tol': 0.01}\n"
     ]
    }
   ],
   "source": [
    "# Define the grid of values for tol and max_iter\n",
    "tol = [0.01, 0.001, 0.0001]\n",
    "max_iter = [100, 150, 200]\n",
    "\n",
    "# Create a dictionary where tol and max_iter are keys and the lists of their values are the corresponding values\n",
    "param_grid = dict(tol=tol, max_iter=max_iter)\n",
    "\n",
    "# Instantiate GridSearchCV with the required parameters\n",
    "grid_model = GridSearchCV(estimator=logreg, param_grid=param_grid, cv=5)\n",
    "\n",
    "# Fit grid_model to the data\n",
    "grid_model_result = grid_model.fit(rescaledX_train, y_train)\n",
    "\n",
    "# Summarize results\n",
    "best_train_score, best_train_params = grid_model_result.best_score_, grid_model_result.best_params_\n",
    "print(\"Best: %f using %s\" % (best_train_score, best_train_params))\n"
   ]
  },
  {
   "cell_type": "markdown",
   "id": "6386e59f",
   "metadata": {
    "papermill": {
     "duration": 0.006818,
     "end_time": "2024-07-11T05:51:38.385355",
     "exception": false,
     "start_time": "2024-07-11T05:51:38.378537",
     "status": "completed"
    },
    "tags": []
   },
   "source": [
    "# Evaluate the Best Model on the Test Set"
   ]
  },
  {
   "cell_type": "code",
   "execution_count": 13,
   "id": "b9d8f634",
   "metadata": {
    "execution": {
     "iopub.execute_input": "2024-07-11T05:51:38.401143Z",
     "iopub.status.busy": "2024-07-11T05:51:38.400780Z",
     "iopub.status.idle": "2024-07-11T05:51:38.409183Z",
     "shell.execute_reply": "2024-07-11T05:51:38.408423Z"
    },
    "papermill": {
     "duration": 0.020464,
     "end_time": "2024-07-11T05:51:38.412920",
     "exception": false,
     "start_time": "2024-07-11T05:51:38.392456",
     "status": "completed"
    },
    "tags": []
   },
   "outputs": [
    {
     "name": "stdout",
     "output_type": "stream",
     "text": [
      "Accuracy of logistic regression classifier:  0.793859649122807\n"
     ]
    }
   ],
   "source": [
    "# Extract the best model and evaluate it on the test set\n",
    "best_model = grid_model_result.best_estimator_\n",
    "best_score = best_model.score(rescaledX_test, y_test)\n",
    "\n",
    "print(\"Accuracy of logistic regression classifier: \", best_score)\n"
   ]
  },
  {
   "cell_type": "code",
   "execution_count": null,
   "id": "f6dfaa0c",
   "metadata": {
    "papermill": {
     "duration": 0.007223,
     "end_time": "2024-07-11T05:51:38.427435",
     "exception": false,
     "start_time": "2024-07-11T05:51:38.420212",
     "status": "completed"
    },
    "tags": []
   },
   "outputs": [],
   "source": []
  }
 ],
 "metadata": {
  "kaggle": {
   "accelerator": "none",
   "dataSources": [
    {
     "datasetId": 5342249,
     "sourceId": 8874963,
     "sourceType": "datasetVersion"
    }
   ],
   "dockerImageVersionId": 30732,
   "isGpuEnabled": false,
   "isInternetEnabled": true,
   "language": "python",
   "sourceType": "notebook"
  },
  "kernelspec": {
   "display_name": "Python 3",
   "language": "python",
   "name": "python3"
  },
  "language_info": {
   "codemirror_mode": {
    "name": "ipython",
    "version": 3
   },
   "file_extension": ".py",
   "mimetype": "text/x-python",
   "name": "python",
   "nbconvert_exporter": "python",
   "pygments_lexer": "ipython3",
   "version": "3.10.13"
  },
  "papermill": {
   "default_parameters": {},
   "duration": 6.435604,
   "end_time": "2024-07-11T05:51:39.057883",
   "environment_variables": {},
   "exception": null,
   "input_path": "__notebook__.ipynb",
   "output_path": "__notebook__.ipynb",
   "parameters": {},
   "start_time": "2024-07-11T05:51:32.622279",
   "version": "2.5.0"
  }
 },
 "nbformat": 4,
 "nbformat_minor": 5
}
