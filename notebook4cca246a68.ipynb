{
 "cells": [
  {
   "cell_type": "markdown",
   "id": "457184b8",
   "metadata": {
    "_cell_guid": "b1076dfc-b9ad-4769-8c92-a6c4dae69d19",
    "_uuid": "8f2839f25d086af736a60e9eeb907d3b93b6e0e5",
    "papermill": {
     "duration": 0.008808,
     "end_time": "2024-09-29T03:12:56.258232",
     "exception": false,
     "start_time": "2024-09-29T03:12:56.249424",
     "status": "completed"
    },
    "tags": []
   },
   "source": [
    "# Introduction\n",
    "\n",
    "One practical application is in commercial banking, where banks handle numerous credit card applications daily. These applications often get rejected for reasons like high loan balances or low income, making manual analysis tedious and error-prone. Luckily, machine learning can automate this process efficiently. In this workbook, I'll build an automatic credit card approval predictor, mimicking the systems used by banks. The dataset, a subset of the Credit Card Approval dataset from the UCI Machine Learning Repository, is loaded as cc_apps, with the last column indicating approval status."
   ]
  },
  {
   "cell_type": "markdown",
   "id": "45077e35",
   "metadata": {
    "papermill": {
     "duration": 0.008186,
     "end_time": "2024-09-29T03:12:56.275666",
     "exception": false,
     "start_time": "2024-09-29T03:12:56.267480",
     "status": "completed"
    },
    "tags": []
   },
   "source": [
    "# Import necessary libraries"
   ]
  },
  {
   "cell_type": "code",
   "execution_count": 1,
   "id": "7d0e6aa3",
   "metadata": {
    "execution": {
     "iopub.execute_input": "2024-09-29T03:12:56.294674Z",
     "iopub.status.busy": "2024-09-29T03:12:56.294242Z",
     "iopub.status.idle": "2024-09-29T03:12:59.148219Z",
     "shell.execute_reply": "2024-09-29T03:12:59.146831Z"
    },
    "papermill": {
     "duration": 2.867707,
     "end_time": "2024-09-29T03:12:59.151406",
     "exception": false,
     "start_time": "2024-09-29T03:12:56.283699",
     "status": "completed"
    },
    "tags": []
   },
   "outputs": [],
   "source": [
    "# Import necessary libraries\n",
    "import pandas as pd\n",
    "import numpy as np\n",
    "from sklearn.model_selection import train_test_split\n",
    "from sklearn.preprocessing import StandardScaler\n",
    "from sklearn.linear_model import LogisticRegression\n",
    "from sklearn.metrics import confusion_matrix\n",
    "from sklearn.model_selection import GridSearchCV\n"
   ]
  },
  {
   "cell_type": "markdown",
   "id": "fa15f18c",
   "metadata": {
    "papermill": {
     "duration": 0.008849,
     "end_time": "2024-09-29T03:12:59.171246",
     "exception": false,
     "start_time": "2024-09-29T03:12:59.162397",
     "status": "completed"
    },
    "tags": []
   },
   "source": [
    "# Load the dataset"
   ]
  },
  {
   "cell_type": "code",
   "execution_count": 2,
   "id": "d311e34e",
   "metadata": {
    "execution": {
     "iopub.execute_input": "2024-09-29T03:12:59.189754Z",
     "iopub.status.busy": "2024-09-29T03:12:59.189179Z",
     "iopub.status.idle": "2024-09-29T03:12:59.235423Z",
     "shell.execute_reply": "2024-09-29T03:12:59.234109Z"
    },
    "papermill": {
     "duration": 0.059417,
     "end_time": "2024-09-29T03:12:59.238859",
     "exception": false,
     "start_time": "2024-09-29T03:12:59.179442",
     "status": "completed"
    },
    "tags": []
   },
   "outputs": [
    {
     "name": "stdout",
     "output_type": "stream",
     "text": [
      "  0      1      2  3  4  5  6     7  8  9   10 11   12 13\n",
      "0  b  30.83  0.000  u  g  w  v  1.25  t  t   1  g    0  +\n",
      "1  a  58.67  4.460  u  g  q  h  3.04  t  t   6  g  560  +\n",
      "2  a  24.50  0.500  u  g  q  h  1.50  t  f   0  g  824  +\n",
      "3  b  27.83  1.540  u  g  w  v  3.75  t  t   5  g    3  +\n",
      "4  b  20.17  5.625  u  g  w  v  1.71  t  f   0  s    0  +\n"
     ]
    }
   ],
   "source": [
    "# Load the dataset\n",
    "cc_apps = pd.read_csv(\"/kaggle/input/credit-card-details/cc_approvals.data\", header=None) \n",
    "\n",
    "# Display the first few rows of the dataset\n",
    "print(cc_apps.head())"
   ]
  },
  {
   "cell_type": "markdown",
   "id": "8130a63d",
   "metadata": {
    "papermill": {
     "duration": 0.008372,
     "end_time": "2024-09-29T03:12:59.256403",
     "exception": false,
     "start_time": "2024-09-29T03:12:59.248031",
     "status": "completed"
    },
    "tags": []
   },
   "source": [
    "# Replace missing values"
   ]
  },
  {
   "cell_type": "code",
   "execution_count": 3,
   "id": "643ddaf3",
   "metadata": {
    "execution": {
     "iopub.execute_input": "2024-09-29T03:12:59.276110Z",
     "iopub.status.busy": "2024-09-29T03:12:59.275189Z",
     "iopub.status.idle": "2024-09-29T03:12:59.286226Z",
     "shell.execute_reply": "2024-09-29T03:12:59.284825Z"
    },
    "papermill": {
     "duration": 0.02438,
     "end_time": "2024-09-29T03:12:59.289173",
     "exception": false,
     "start_time": "2024-09-29T03:12:59.264793",
     "status": "completed"
    },
    "tags": []
   },
   "outputs": [],
   "source": [
    "# Replace the '?'s with NaN in dataset\n",
    "cc_apps_nans_replaced = cc_apps.replace(\"?\", np.NaN)\n"
   ]
  },
  {
   "cell_type": "markdown",
   "id": "f8d14968",
   "metadata": {
    "papermill": {
     "duration": 0.008109,
     "end_time": "2024-09-29T03:12:59.306252",
     "exception": false,
     "start_time": "2024-09-29T03:12:59.298143",
     "status": "completed"
    },
    "tags": []
   },
   "source": [
    "# Create a copy of the DataFrame and Impute Missing Values"
   ]
  },
  {
   "cell_type": "code",
   "execution_count": 4,
   "id": "0f9685d5",
   "metadata": {
    "execution": {
     "iopub.execute_input": "2024-09-29T03:12:59.325125Z",
     "iopub.status.busy": "2024-09-29T03:12:59.324719Z",
     "iopub.status.idle": "2024-09-29T03:12:59.349776Z",
     "shell.execute_reply": "2024-09-29T03:12:59.348414Z"
    },
    "papermill": {
     "duration": 0.037888,
     "end_time": "2024-09-29T03:12:59.352906",
     "exception": false,
     "start_time": "2024-09-29T03:12:59.315018",
     "status": "completed"
    },
    "tags": []
   },
   "outputs": [],
   "source": [
    "# Create a copy of the NaN replacement DataFrame\n",
    "cc_apps_imputed = cc_apps_nans_replaced.copy()\n",
    "\n",
    "# Iterate over each column of cc_apps_nans_replaced and impute the most frequent value for object data types and the mean for numeric data types\n",
    "for col in cc_apps_imputed.columns:\n",
    "    # Check if the column is of object type\n",
    "    if cc_apps_imputed[col].dtypes == \"object\":\n",
    "        # Impute with the most frequent value\n",
    "        cc_apps_imputed[col] = cc_apps_imputed[col].fillna(\n",
    "            cc_apps_imputed[col].value_counts().index[0]\n",
    "        )\n",
    "    else:\n",
    "        cc_apps_imputed[col] = cc_apps_imputed[col].fillna(cc_apps_imputed[col].mean())\n"
   ]
  },
  {
   "cell_type": "markdown",
   "id": "d33b4138",
   "metadata": {
    "papermill": {
     "duration": 0.008029,
     "end_time": "2024-09-29T03:12:59.370213",
     "exception": false,
     "start_time": "2024-09-29T03:12:59.362184",
     "status": "completed"
    },
    "tags": []
   },
   "source": [
    "# Encode Categorical Features"
   ]
  },
  {
   "cell_type": "code",
   "execution_count": 5,
   "id": "42aced05",
   "metadata": {
    "execution": {
     "iopub.execute_input": "2024-09-29T03:12:59.389813Z",
     "iopub.status.busy": "2024-09-29T03:12:59.389326Z",
     "iopub.status.idle": "2024-09-29T03:12:59.413784Z",
     "shell.execute_reply": "2024-09-29T03:12:59.412411Z"
    },
    "papermill": {
     "duration": 0.038152,
     "end_time": "2024-09-29T03:12:59.417207",
     "exception": false,
     "start_time": "2024-09-29T03:12:59.379055",
     "status": "completed"
    },
    "tags": []
   },
   "outputs": [],
   "source": [
    "# Dummify the categorical features\n",
    "cc_apps_encoded = pd.get_dummies(cc_apps_imputed, drop_first=True)\n"
   ]
  },
  {
   "cell_type": "markdown",
   "id": "b803364b",
   "metadata": {
    "papermill": {
     "duration": 0.007925,
     "end_time": "2024-09-29T03:12:59.433881",
     "exception": false,
     "start_time": "2024-09-29T03:12:59.425956",
     "status": "completed"
    },
    "tags": []
   },
   "source": [
    "# Split Data into Features and Target Variable"
   ]
  },
  {
   "cell_type": "code",
   "execution_count": 6,
   "id": "1d24f08e",
   "metadata": {
    "execution": {
     "iopub.execute_input": "2024-09-29T03:12:59.452416Z",
     "iopub.status.busy": "2024-09-29T03:12:59.451977Z",
     "iopub.status.idle": "2024-09-29T03:12:59.473052Z",
     "shell.execute_reply": "2024-09-29T03:12:59.471681Z"
    },
    "papermill": {
     "duration": 0.034016,
     "end_time": "2024-09-29T03:12:59.476137",
     "exception": false,
     "start_time": "2024-09-29T03:12:59.442121",
     "status": "completed"
    },
    "tags": []
   },
   "outputs": [],
   "source": [
    "# Extract the last column as your target variable\n",
    "X = cc_apps_encoded.iloc[:, :-1].values\n",
    "y = cc_apps_encoded.iloc[:, [-1]].values\n"
   ]
  },
  {
   "cell_type": "markdown",
   "id": "44d26522",
   "metadata": {
    "papermill": {
     "duration": 0.008102,
     "end_time": "2024-09-29T03:12:59.492642",
     "exception": false,
     "start_time": "2024-09-29T03:12:59.484540",
     "status": "completed"
    },
    "tags": []
   },
   "source": [
    "# Split into Train and Test Sets"
   ]
  },
  {
   "cell_type": "code",
   "execution_count": 7,
   "id": "93dcf822",
   "metadata": {
    "execution": {
     "iopub.execute_input": "2024-09-29T03:12:59.510863Z",
     "iopub.status.busy": "2024-09-29T03:12:59.510464Z",
     "iopub.status.idle": "2024-09-29T03:12:59.522168Z",
     "shell.execute_reply": "2024-09-29T03:12:59.520975Z"
    },
    "papermill": {
     "duration": 0.024679,
     "end_time": "2024-09-29T03:12:59.525495",
     "exception": false,
     "start_time": "2024-09-29T03:12:59.500816",
     "status": "completed"
    },
    "tags": []
   },
   "outputs": [],
   "source": [
    "# Split into train and test sets\n",
    "X_train, X_test, y_train, y_test = train_test_split(X, y, test_size=0.33, random_state=42)\n"
   ]
  },
  {
   "cell_type": "markdown",
   "id": "33adae44",
   "metadata": {
    "papermill": {
     "duration": 0.007999,
     "end_time": "2024-09-29T03:12:59.541909",
     "exception": false,
     "start_time": "2024-09-29T03:12:59.533910",
     "status": "completed"
    },
    "tags": []
   },
   "source": [
    "# Rescale the Features"
   ]
  },
  {
   "cell_type": "code",
   "execution_count": 8,
   "id": "389869fa",
   "metadata": {
    "execution": {
     "iopub.execute_input": "2024-09-29T03:12:59.561015Z",
     "iopub.status.busy": "2024-09-29T03:12:59.560613Z",
     "iopub.status.idle": "2024-09-29T03:12:59.615576Z",
     "shell.execute_reply": "2024-09-29T03:12:59.614361Z"
    },
    "papermill": {
     "duration": 0.075934,
     "end_time": "2024-09-29T03:12:59.626757",
     "exception": false,
     "start_time": "2024-09-29T03:12:59.550823",
     "status": "completed"
    },
    "tags": []
   },
   "outputs": [],
   "source": [
    "# Instantiate StandardScaler and use it to rescale X_train and X_test\n",
    "scaler = StandardScaler()\n",
    "rescaledX_train = scaler.fit_transform(X_train)\n",
    "rescaledX_test = scaler.transform(X_test)\n"
   ]
  },
  {
   "cell_type": "markdown",
   "id": "d32fa080",
   "metadata": {
    "papermill": {
     "duration": 0.008457,
     "end_time": "2024-09-29T03:12:59.644007",
     "exception": false,
     "start_time": "2024-09-29T03:12:59.635550",
     "status": "completed"
    },
    "tags": []
   },
   "source": [
    "# Train the Logistic Regression Model"
   ]
  },
  {
   "cell_type": "code",
   "execution_count": 9,
   "id": "0c2bccd9",
   "metadata": {
    "execution": {
     "iopub.execute_input": "2024-09-29T03:12:59.662527Z",
     "iopub.status.busy": "2024-09-29T03:12:59.662038Z",
     "iopub.status.idle": "2024-09-29T03:12:59.733226Z",
     "shell.execute_reply": "2024-09-29T03:12:59.731443Z"
    },
    "papermill": {
     "duration": 0.086556,
     "end_time": "2024-09-29T03:12:59.738950",
     "exception": false,
     "start_time": "2024-09-29T03:12:59.652394",
     "status": "completed"
    },
    "tags": []
   },
   "outputs": [
    {
     "name": "stderr",
     "output_type": "stream",
     "text": [
      "/opt/conda/lib/python3.10/site-packages/sklearn/utils/validation.py:1143: DataConversionWarning: A column-vector y was passed when a 1d array was expected. Please change the shape of y to (n_samples, ), for example using ravel().\n",
      "  y = column_or_1d(y, warn=True)\n"
     ]
    },
    {
     "data": {
      "text/html": [
       "<style>#sk-container-id-1 {color: black;background-color: white;}#sk-container-id-1 pre{padding: 0;}#sk-container-id-1 div.sk-toggleable {background-color: white;}#sk-container-id-1 label.sk-toggleable__label {cursor: pointer;display: block;width: 100%;margin-bottom: 0;padding: 0.3em;box-sizing: border-box;text-align: center;}#sk-container-id-1 label.sk-toggleable__label-arrow:before {content: \"▸\";float: left;margin-right: 0.25em;color: #696969;}#sk-container-id-1 label.sk-toggleable__label-arrow:hover:before {color: black;}#sk-container-id-1 div.sk-estimator:hover label.sk-toggleable__label-arrow:before {color: black;}#sk-container-id-1 div.sk-toggleable__content {max-height: 0;max-width: 0;overflow: hidden;text-align: left;background-color: #f0f8ff;}#sk-container-id-1 div.sk-toggleable__content pre {margin: 0.2em;color: black;border-radius: 0.25em;background-color: #f0f8ff;}#sk-container-id-1 input.sk-toggleable__control:checked~div.sk-toggleable__content {max-height: 200px;max-width: 100%;overflow: auto;}#sk-container-id-1 input.sk-toggleable__control:checked~label.sk-toggleable__label-arrow:before {content: \"▾\";}#sk-container-id-1 div.sk-estimator input.sk-toggleable__control:checked~label.sk-toggleable__label {background-color: #d4ebff;}#sk-container-id-1 div.sk-label input.sk-toggleable__control:checked~label.sk-toggleable__label {background-color: #d4ebff;}#sk-container-id-1 input.sk-hidden--visually {border: 0;clip: rect(1px 1px 1px 1px);clip: rect(1px, 1px, 1px, 1px);height: 1px;margin: -1px;overflow: hidden;padding: 0;position: absolute;width: 1px;}#sk-container-id-1 div.sk-estimator {font-family: monospace;background-color: #f0f8ff;border: 1px dotted black;border-radius: 0.25em;box-sizing: border-box;margin-bottom: 0.5em;}#sk-container-id-1 div.sk-estimator:hover {background-color: #d4ebff;}#sk-container-id-1 div.sk-parallel-item::after {content: \"\";width: 100%;border-bottom: 1px solid gray;flex-grow: 1;}#sk-container-id-1 div.sk-label:hover label.sk-toggleable__label {background-color: #d4ebff;}#sk-container-id-1 div.sk-serial::before {content: \"\";position: absolute;border-left: 1px solid gray;box-sizing: border-box;top: 0;bottom: 0;left: 50%;z-index: 0;}#sk-container-id-1 div.sk-serial {display: flex;flex-direction: column;align-items: center;background-color: white;padding-right: 0.2em;padding-left: 0.2em;position: relative;}#sk-container-id-1 div.sk-item {position: relative;z-index: 1;}#sk-container-id-1 div.sk-parallel {display: flex;align-items: stretch;justify-content: center;background-color: white;position: relative;}#sk-container-id-1 div.sk-item::before, #sk-container-id-1 div.sk-parallel-item::before {content: \"\";position: absolute;border-left: 1px solid gray;box-sizing: border-box;top: 0;bottom: 0;left: 50%;z-index: -1;}#sk-container-id-1 div.sk-parallel-item {display: flex;flex-direction: column;z-index: 1;position: relative;background-color: white;}#sk-container-id-1 div.sk-parallel-item:first-child::after {align-self: flex-end;width: 50%;}#sk-container-id-1 div.sk-parallel-item:last-child::after {align-self: flex-start;width: 50%;}#sk-container-id-1 div.sk-parallel-item:only-child::after {width: 0;}#sk-container-id-1 div.sk-dashed-wrapped {border: 1px dashed gray;margin: 0 0.4em 0.5em 0.4em;box-sizing: border-box;padding-bottom: 0.4em;background-color: white;}#sk-container-id-1 div.sk-label label {font-family: monospace;font-weight: bold;display: inline-block;line-height: 1.2em;}#sk-container-id-1 div.sk-label-container {text-align: center;}#sk-container-id-1 div.sk-container {/* jupyter's `normalize.less` sets `[hidden] { display: none; }` but bootstrap.min.css set `[hidden] { display: none !important; }` so we also need the `!important` here to be able to override the default hidden behavior on the sphinx rendered scikit-learn.org. See: https://github.com/scikit-learn/scikit-learn/issues/21755 */display: inline-block !important;position: relative;}#sk-container-id-1 div.sk-text-repr-fallback {display: none;}</style><div id=\"sk-container-id-1\" class=\"sk-top-container\"><div class=\"sk-text-repr-fallback\"><pre>LogisticRegression()</pre><b>In a Jupyter environment, please rerun this cell to show the HTML representation or trust the notebook. <br />On GitHub, the HTML representation is unable to render, please try loading this page with nbviewer.org.</b></div><div class=\"sk-container\" hidden><div class=\"sk-item\"><div class=\"sk-estimator sk-toggleable\"><input class=\"sk-toggleable__control sk-hidden--visually\" id=\"sk-estimator-id-1\" type=\"checkbox\" checked><label for=\"sk-estimator-id-1\" class=\"sk-toggleable__label sk-toggleable__label-arrow\">LogisticRegression</label><div class=\"sk-toggleable__content\"><pre>LogisticRegression()</pre></div></div></div></div></div>"
      ],
      "text/plain": [
       "LogisticRegression()"
      ]
     },
     "execution_count": 9,
     "metadata": {},
     "output_type": "execute_result"
    }
   ],
   "source": [
    "# Instantiate a LogisticRegression classifier with default parameter values\n",
    "logreg = LogisticRegression()\n",
    "\n",
    "# Fit logreg to the train set\n",
    "logreg.fit(rescaledX_train, y_train)\n"
   ]
  },
  {
   "cell_type": "markdown",
   "id": "c5db9098",
   "metadata": {
    "papermill": {
     "duration": 0.016906,
     "end_time": "2024-09-29T03:12:59.773677",
     "exception": false,
     "start_time": "2024-09-29T03:12:59.756771",
     "status": "completed"
    },
    "tags": []
   },
   "source": [
    "# Evaluate the Model"
   ]
  },
  {
   "cell_type": "code",
   "execution_count": 10,
   "id": "128aeab4",
   "metadata": {
    "execution": {
     "iopub.execute_input": "2024-09-29T03:12:59.813287Z",
     "iopub.status.busy": "2024-09-29T03:12:59.812580Z",
     "iopub.status.idle": "2024-09-29T03:12:59.826430Z",
     "shell.execute_reply": "2024-09-29T03:12:59.824507Z"
    },
    "papermill": {
     "duration": 0.039383,
     "end_time": "2024-09-29T03:12:59.831638",
     "exception": false,
     "start_time": "2024-09-29T03:12:59.792255",
     "status": "completed"
    },
    "tags": []
   },
   "outputs": [
    {
     "name": "stdout",
     "output_type": "stream",
     "text": [
      "[[203   1]\n",
      " [  1 257]]\n"
     ]
    }
   ],
   "source": [
    "# Use logreg to predict instances from the training set\n",
    "y_train_pred = logreg.predict(rescaledX_train)\n",
    "\n",
    "# Print the confusion matrix of the logreg model\n",
    "print(confusion_matrix(y_train, y_train_pred))\n"
   ]
  },
  {
   "cell_type": "markdown",
   "id": "b4d9b142",
   "metadata": {
    "papermill": {
     "duration": 0.017224,
     "end_time": "2024-09-29T03:12:59.867395",
     "exception": false,
     "start_time": "2024-09-29T03:12:59.850171",
     "status": "completed"
    },
    "tags": []
   },
   "source": [
    "# Perform Grid Search for Hyperparameter Tuning"
   ]
  },
  {
   "cell_type": "code",
   "execution_count": 11,
   "id": "7d897b89",
   "metadata": {
    "execution": {
     "iopub.execute_input": "2024-09-29T03:12:59.906527Z",
     "iopub.status.busy": "2024-09-29T03:12:59.905822Z",
     "iopub.status.idle": "2024-09-29T03:12:59.913533Z",
     "shell.execute_reply": "2024-09-29T03:12:59.911830Z"
    },
    "papermill": {
     "duration": 0.032348,
     "end_time": "2024-09-29T03:12:59.917618",
     "exception": false,
     "start_time": "2024-09-29T03:12:59.885270",
     "status": "completed"
    },
    "tags": []
   },
   "outputs": [],
   "source": [
    "import warnings\n",
    "\n",
    "# Suppress all warnings\n",
    "warnings.filterwarnings(\"ignore\")\n"
   ]
  },
  {
   "cell_type": "code",
   "execution_count": 12,
   "id": "3590905c",
   "metadata": {
    "execution": {
     "iopub.execute_input": "2024-09-29T03:12:59.948029Z",
     "iopub.status.busy": "2024-09-29T03:12:59.947499Z",
     "iopub.status.idle": "2024-09-29T03:13:01.616991Z",
     "shell.execute_reply": "2024-09-29T03:13:01.615496Z"
    },
    "papermill": {
     "duration": 1.685984,
     "end_time": "2024-09-29T03:13:01.621587",
     "exception": false,
     "start_time": "2024-09-29T03:12:59.935603",
     "status": "completed"
    },
    "tags": []
   },
   "outputs": [
    {
     "name": "stdout",
     "output_type": "stream",
     "text": [
      "Best: 0.818163 using {'max_iter': 100, 'tol': 0.01}\n"
     ]
    }
   ],
   "source": [
    "# Define the grid of values for tol and max_iter\n",
    "tol = [0.01, 0.001, 0.0001]\n",
    "max_iter = [100, 150, 200]\n",
    "\n",
    "# Create a dictionary where tol and max_iter are keys and the lists of their values are the corresponding values\n",
    "param_grid = dict(tol=tol, max_iter=max_iter)\n",
    "\n",
    "# Instantiate GridSearchCV with the required parameters\n",
    "grid_model = GridSearchCV(estimator=logreg, param_grid=param_grid, cv=5)\n",
    "\n",
    "# Fit grid_model to the data\n",
    "grid_model_result = grid_model.fit(rescaledX_train, y_train)\n",
    "\n",
    "# Summarize results\n",
    "best_train_score, best_train_params = grid_model_result.best_score_, grid_model_result.best_params_\n",
    "print(\"Best: %f using %s\" % (best_train_score, best_train_params))\n"
   ]
  },
  {
   "cell_type": "markdown",
   "id": "076b581e",
   "metadata": {
    "papermill": {
     "duration": 0.0177,
     "end_time": "2024-09-29T03:13:01.656994",
     "exception": false,
     "start_time": "2024-09-29T03:13:01.639294",
     "status": "completed"
    },
    "tags": []
   },
   "source": [
    "# Evaluate the Best Model on the Test Set"
   ]
  },
  {
   "cell_type": "code",
   "execution_count": 13,
   "id": "92b073f0",
   "metadata": {
    "execution": {
     "iopub.execute_input": "2024-09-29T03:13:01.703328Z",
     "iopub.status.busy": "2024-09-29T03:13:01.702614Z",
     "iopub.status.idle": "2024-09-29T03:13:01.722472Z",
     "shell.execute_reply": "2024-09-29T03:13:01.720896Z"
    },
    "papermill": {
     "duration": 0.053051,
     "end_time": "2024-09-29T03:13:01.728203",
     "exception": false,
     "start_time": "2024-09-29T03:13:01.675152",
     "status": "completed"
    },
    "tags": []
   },
   "outputs": [
    {
     "name": "stdout",
     "output_type": "stream",
     "text": [
      "Accuracy of logistic regression classifier:  0.793859649122807\n"
     ]
    }
   ],
   "source": [
    "# Extract the best model and evaluate it on the test set\n",
    "best_model = grid_model_result.best_estimator_\n",
    "best_score = best_model.score(rescaledX_test, y_test)\n",
    "\n",
    "print(\"Accuracy of logistic regression classifier: \", best_score)\n"
   ]
  },
  {
   "cell_type": "code",
   "execution_count": null,
   "id": "c3f029e7",
   "metadata": {
    "papermill": {
     "duration": 0.017982,
     "end_time": "2024-09-29T03:13:01.764986",
     "exception": false,
     "start_time": "2024-09-29T03:13:01.747004",
     "status": "completed"
    },
    "tags": []
   },
   "outputs": [],
   "source": []
  }
 ],
 "metadata": {
  "kaggle": {
   "accelerator": "none",
   "dataSources": [
    {
     "datasetId": 5342249,
     "sourceId": 8874963,
     "sourceType": "datasetVersion"
    }
   ],
   "dockerImageVersionId": 30732,
   "isGpuEnabled": false,
   "isInternetEnabled": true,
   "language": "python",
   "sourceType": "notebook"
  },
  "kernelspec": {
   "display_name": "Python 3",
   "language": "python",
   "name": "python3"
  },
  "language_info": {
   "codemirror_mode": {
    "name": "ipython",
    "version": 3
   },
   "file_extension": ".py",
   "mimetype": "text/x-python",
   "name": "python",
   "nbconvert_exporter": "python",
   "pygments_lexer": "ipython3",
   "version": "3.10.13"
  },
  "papermill": {
   "default_parameters": {},
   "duration": 10.055303,
   "end_time": "2024-09-29T03:13:02.423442",
   "environment_variables": {},
   "exception": null,
   "input_path": "__notebook__.ipynb",
   "output_path": "__notebook__.ipynb",
   "parameters": {},
   "start_time": "2024-09-29T03:12:52.368139",
   "version": "2.5.0"
  }
 },
 "nbformat": 4,
 "nbformat_minor": 5
}
