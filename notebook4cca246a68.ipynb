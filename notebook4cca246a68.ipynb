{
 "cells": [
  {
   "cell_type": "markdown",
   "id": "f7618c98",
   "metadata": {
    "_cell_guid": "b1076dfc-b9ad-4769-8c92-a6c4dae69d19",
    "_uuid": "8f2839f25d086af736a60e9eeb907d3b93b6e0e5",
    "papermill": {
     "duration": 0.006102,
     "end_time": "2024-07-07T05:52:24.085463",
     "exception": false,
     "start_time": "2024-07-07T05:52:24.079361",
     "status": "completed"
    },
    "tags": []
   },
   "source": [
    "# Introduction\n",
    "\n",
    "One practical application is in commercial banking, where banks handle numerous credit card applications daily. These applications often get rejected for reasons like high loan balances or low income, making manual analysis tedious and error-prone. Luckily, machine learning can automate this process efficiently. In this workbook, I'll build an automatic credit card approval predictor, mimicking the systems used by banks. The dataset, a subset of the Credit Card Approval dataset from the UCI Machine Learning Repository, is loaded as cc_apps, with the last column indicating approval status."
   ]
  },
  {
   "cell_type": "markdown",
   "id": "e5e10b04",
   "metadata": {
    "papermill": {
     "duration": 0.005188,
     "end_time": "2024-07-07T05:52:24.096237",
     "exception": false,
     "start_time": "2024-07-07T05:52:24.091049",
     "status": "completed"
    },
    "tags": []
   },
   "source": [
    "# Import necessary libraries"
   ]
  },
  {
   "cell_type": "code",
   "execution_count": 1,
   "id": "48ee1de0",
   "metadata": {
    "execution": {
     "iopub.execute_input": "2024-07-07T05:52:24.108420Z",
     "iopub.status.busy": "2024-07-07T05:52:24.108040Z",
     "iopub.status.idle": "2024-07-07T05:52:26.062887Z",
     "shell.execute_reply": "2024-07-07T05:52:26.061982Z"
    },
    "papermill": {
     "duration": 1.963885,
     "end_time": "2024-07-07T05:52:26.065443",
     "exception": false,
     "start_time": "2024-07-07T05:52:24.101558",
     "status": "completed"
    },
    "tags": []
   },
   "outputs": [],
   "source": [
    "# Import necessary libraries\n",
    "import pandas as pd\n",
    "import numpy as np\n",
    "from sklearn.model_selection import train_test_split\n",
    "from sklearn.preprocessing import StandardScaler\n",
    "from sklearn.linear_model import LogisticRegression\n",
    "from sklearn.metrics import confusion_matrix\n",
    "from sklearn.model_selection import GridSearchCV\n"
   ]
  },
  {
   "cell_type": "markdown",
   "id": "27ebb8c2",
   "metadata": {
    "papermill": {
     "duration": 0.005202,
     "end_time": "2024-07-07T05:52:26.076375",
     "exception": false,
     "start_time": "2024-07-07T05:52:26.071173",
     "status": "completed"
    },
    "tags": []
   },
   "source": [
    "# Load the dataset"
   ]
  },
  {
   "cell_type": "code",
   "execution_count": 2,
   "id": "2dd27ece",
   "metadata": {
    "execution": {
     "iopub.execute_input": "2024-07-07T05:52:26.089186Z",
     "iopub.status.busy": "2024-07-07T05:52:26.088695Z",
     "iopub.status.idle": "2024-07-07T05:52:26.125402Z",
     "shell.execute_reply": "2024-07-07T05:52:26.124247Z"
    },
    "papermill": {
     "duration": 0.045846,
     "end_time": "2024-07-07T05:52:26.127798",
     "exception": false,
     "start_time": "2024-07-07T05:52:26.081952",
     "status": "completed"
    },
    "tags": []
   },
   "outputs": [
    {
     "name": "stdout",
     "output_type": "stream",
     "text": [
      "  0      1      2  3  4  5  6     7  8  9   10 11   12 13\n",
      "0  b  30.83  0.000  u  g  w  v  1.25  t  t   1  g    0  +\n",
      "1  a  58.67  4.460  u  g  q  h  3.04  t  t   6  g  560  +\n",
      "2  a  24.50  0.500  u  g  q  h  1.50  t  f   0  g  824  +\n",
      "3  b  27.83  1.540  u  g  w  v  3.75  t  t   5  g    3  +\n",
      "4  b  20.17  5.625  u  g  w  v  1.71  t  f   0  s    0  +\n"
     ]
    }
   ],
   "source": [
    "# Load the dataset\n",
    "cc_apps = pd.read_csv(\"/kaggle/input/credit-card-details/cc_approvals.data\", header=None) \n",
    "\n",
    "# Display the first few rows of the dataset\n",
    "print(cc_apps.head())"
   ]
  },
  {
   "cell_type": "markdown",
   "id": "0dc88891",
   "metadata": {
    "papermill": {
     "duration": 0.005207,
     "end_time": "2024-07-07T05:52:26.138613",
     "exception": false,
     "start_time": "2024-07-07T05:52:26.133406",
     "status": "completed"
    },
    "tags": []
   },
   "source": [
    "# Replace missing values"
   ]
  },
  {
   "cell_type": "code",
   "execution_count": 3,
   "id": "8147ba98",
   "metadata": {
    "execution": {
     "iopub.execute_input": "2024-07-07T05:52:26.151142Z",
     "iopub.status.busy": "2024-07-07T05:52:26.150776Z",
     "iopub.status.idle": "2024-07-07T05:52:26.158000Z",
     "shell.execute_reply": "2024-07-07T05:52:26.157063Z"
    },
    "papermill": {
     "duration": 0.015796,
     "end_time": "2024-07-07T05:52:26.159993",
     "exception": false,
     "start_time": "2024-07-07T05:52:26.144197",
     "status": "completed"
    },
    "tags": []
   },
   "outputs": [],
   "source": [
    "# Replace the '?'s with NaN in dataset\n",
    "cc_apps_nans_replaced = cc_apps.replace(\"?\", np.NaN)\n"
   ]
  },
  {
   "cell_type": "markdown",
   "id": "88389536",
   "metadata": {
    "papermill": {
     "duration": 0.005358,
     "end_time": "2024-07-07T05:52:26.170880",
     "exception": false,
     "start_time": "2024-07-07T05:52:26.165522",
     "status": "completed"
    },
    "tags": []
   },
   "source": [
    "# Create a copy of the DataFrame and Impute Missing Values"
   ]
  },
  {
   "cell_type": "code",
   "execution_count": 4,
   "id": "fcf472e6",
   "metadata": {
    "execution": {
     "iopub.execute_input": "2024-07-07T05:52:26.183327Z",
     "iopub.status.busy": "2024-07-07T05:52:26.182950Z",
     "iopub.status.idle": "2024-07-07T05:52:26.202777Z",
     "shell.execute_reply": "2024-07-07T05:52:26.201769Z"
    },
    "papermill": {
     "duration": 0.028624,
     "end_time": "2024-07-07T05:52:26.204952",
     "exception": false,
     "start_time": "2024-07-07T05:52:26.176328",
     "status": "completed"
    },
    "tags": []
   },
   "outputs": [],
   "source": [
    "# Create a copy of the NaN replacement DataFrame\n",
    "cc_apps_imputed = cc_apps_nans_replaced.copy()\n",
    "\n",
    "# Iterate over each column of cc_apps_nans_replaced and impute the most frequent value for object data types and the mean for numeric data types\n",
    "for col in cc_apps_imputed.columns:\n",
    "    # Check if the column is of object type\n",
    "    if cc_apps_imputed[col].dtypes == \"object\":\n",
    "        # Impute with the most frequent value\n",
    "        cc_apps_imputed[col] = cc_apps_imputed[col].fillna(\n",
    "            cc_apps_imputed[col].value_counts().index[0]\n",
    "        )\n",
    "    else:\n",
    "        cc_apps_imputed[col] = cc_apps_imputed[col].fillna(cc_apps_imputed[col].mean())\n"
   ]
  },
  {
   "cell_type": "markdown",
   "id": "743714a1",
   "metadata": {
    "papermill": {
     "duration": 0.005381,
     "end_time": "2024-07-07T05:52:26.216150",
     "exception": false,
     "start_time": "2024-07-07T05:52:26.210769",
     "status": "completed"
    },
    "tags": []
   },
   "source": [
    "# Encode Categorical Features"
   ]
  },
  {
   "cell_type": "code",
   "execution_count": 5,
   "id": "63328cd9",
   "metadata": {
    "execution": {
     "iopub.execute_input": "2024-07-07T05:52:26.229538Z",
     "iopub.status.busy": "2024-07-07T05:52:26.228663Z",
     "iopub.status.idle": "2024-07-07T05:52:26.247478Z",
     "shell.execute_reply": "2024-07-07T05:52:26.246674Z"
    },
    "papermill": {
     "duration": 0.028033,
     "end_time": "2024-07-07T05:52:26.249778",
     "exception": false,
     "start_time": "2024-07-07T05:52:26.221745",
     "status": "completed"
    },
    "tags": []
   },
   "outputs": [],
   "source": [
    "# Dummify the categorical features\n",
    "cc_apps_encoded = pd.get_dummies(cc_apps_imputed, drop_first=True)\n"
   ]
  },
  {
   "cell_type": "markdown",
   "id": "3a964294",
   "metadata": {
    "papermill": {
     "duration": 0.005247,
     "end_time": "2024-07-07T05:52:26.260813",
     "exception": false,
     "start_time": "2024-07-07T05:52:26.255566",
     "status": "completed"
    },
    "tags": []
   },
   "source": [
    "# Split Data into Features and Target Variable"
   ]
  },
  {
   "cell_type": "code",
   "execution_count": 6,
   "id": "c1db65c9",
   "metadata": {
    "execution": {
     "iopub.execute_input": "2024-07-07T05:52:26.273503Z",
     "iopub.status.busy": "2024-07-07T05:52:26.272653Z",
     "iopub.status.idle": "2024-07-07T05:52:26.288281Z",
     "shell.execute_reply": "2024-07-07T05:52:26.287492Z"
    },
    "papermill": {
     "duration": 0.024591,
     "end_time": "2024-07-07T05:52:26.290738",
     "exception": false,
     "start_time": "2024-07-07T05:52:26.266147",
     "status": "completed"
    },
    "tags": []
   },
   "outputs": [],
   "source": [
    "# Extract the last column as your target variable\n",
    "X = cc_apps_encoded.iloc[:, :-1].values\n",
    "y = cc_apps_encoded.iloc[:, [-1]].values\n"
   ]
  },
  {
   "cell_type": "markdown",
   "id": "fdab1b40",
   "metadata": {
    "papermill": {
     "duration": 0.005479,
     "end_time": "2024-07-07T05:52:26.301918",
     "exception": false,
     "start_time": "2024-07-07T05:52:26.296439",
     "status": "completed"
    },
    "tags": []
   },
   "source": [
    "# Split into Train and Test Sets"
   ]
  },
  {
   "cell_type": "code",
   "execution_count": 7,
   "id": "8280e55c",
   "metadata": {
    "execution": {
     "iopub.execute_input": "2024-07-07T05:52:26.314909Z",
     "iopub.status.busy": "2024-07-07T05:52:26.314239Z",
     "iopub.status.idle": "2024-07-07T05:52:26.323991Z",
     "shell.execute_reply": "2024-07-07T05:52:26.323034Z"
    },
    "papermill": {
     "duration": 0.018543,
     "end_time": "2024-07-07T05:52:26.326089",
     "exception": false,
     "start_time": "2024-07-07T05:52:26.307546",
     "status": "completed"
    },
    "tags": []
   },
   "outputs": [],
   "source": [
    "# Split into train and test sets\n",
    "X_train, X_test, y_train, y_test = train_test_split(X, y, test_size=0.33, random_state=42)\n"
   ]
  },
  {
   "cell_type": "markdown",
   "id": "9ebf69f9",
   "metadata": {
    "papermill": {
     "duration": 0.005556,
     "end_time": "2024-07-07T05:52:26.337219",
     "exception": false,
     "start_time": "2024-07-07T05:52:26.331663",
     "status": "completed"
    },
    "tags": []
   },
   "source": [
    "# Rescale the Features"
   ]
  },
  {
   "cell_type": "code",
   "execution_count": 8,
   "id": "c048fe8b",
   "metadata": {
    "execution": {
     "iopub.execute_input": "2024-07-07T05:52:26.350597Z",
     "iopub.status.busy": "2024-07-07T05:52:26.350186Z",
     "iopub.status.idle": "2024-07-07T05:52:26.380904Z",
     "shell.execute_reply": "2024-07-07T05:52:26.379858Z"
    },
    "papermill": {
     "duration": 0.04014,
     "end_time": "2024-07-07T05:52:26.383585",
     "exception": false,
     "start_time": "2024-07-07T05:52:26.343445",
     "status": "completed"
    },
    "tags": []
   },
   "outputs": [],
   "source": [
    "# Instantiate StandardScaler and use it to rescale X_train and X_test\n",
    "scaler = StandardScaler()\n",
    "rescaledX_train = scaler.fit_transform(X_train)\n",
    "rescaledX_test = scaler.transform(X_test)\n"
   ]
  },
  {
   "cell_type": "markdown",
   "id": "3ab73274",
   "metadata": {
    "papermill": {
     "duration": 0.005353,
     "end_time": "2024-07-07T05:52:26.395967",
     "exception": false,
     "start_time": "2024-07-07T05:52:26.390614",
     "status": "completed"
    },
    "tags": []
   },
   "source": [
    "# Train the Logistic Regression Model"
   ]
  },
  {
   "cell_type": "code",
   "execution_count": 9,
   "id": "64c7254b",
   "metadata": {
    "execution": {
     "iopub.execute_input": "2024-07-07T05:52:26.409970Z",
     "iopub.status.busy": "2024-07-07T05:52:26.409100Z",
     "iopub.status.idle": "2024-07-07T05:52:26.454549Z",
     "shell.execute_reply": "2024-07-07T05:52:26.453207Z"
    },
    "papermill": {
     "duration": 0.055531,
     "end_time": "2024-07-07T05:52:26.457678",
     "exception": false,
     "start_time": "2024-07-07T05:52:26.402147",
     "status": "completed"
    },
    "tags": []
   },
   "outputs": [
    {
     "name": "stderr",
     "output_type": "stream",
     "text": [
      "/opt/conda/lib/python3.10/site-packages/sklearn/utils/validation.py:1143: DataConversionWarning: A column-vector y was passed when a 1d array was expected. Please change the shape of y to (n_samples, ), for example using ravel().\n",
      "  y = column_or_1d(y, warn=True)\n"
     ]
    },
    {
     "data": {
      "text/html": [
       "<style>#sk-container-id-1 {color: black;background-color: white;}#sk-container-id-1 pre{padding: 0;}#sk-container-id-1 div.sk-toggleable {background-color: white;}#sk-container-id-1 label.sk-toggleable__label {cursor: pointer;display: block;width: 100%;margin-bottom: 0;padding: 0.3em;box-sizing: border-box;text-align: center;}#sk-container-id-1 label.sk-toggleable__label-arrow:before {content: \"▸\";float: left;margin-right: 0.25em;color: #696969;}#sk-container-id-1 label.sk-toggleable__label-arrow:hover:before {color: black;}#sk-container-id-1 div.sk-estimator:hover label.sk-toggleable__label-arrow:before {color: black;}#sk-container-id-1 div.sk-toggleable__content {max-height: 0;max-width: 0;overflow: hidden;text-align: left;background-color: #f0f8ff;}#sk-container-id-1 div.sk-toggleable__content pre {margin: 0.2em;color: black;border-radius: 0.25em;background-color: #f0f8ff;}#sk-container-id-1 input.sk-toggleable__control:checked~div.sk-toggleable__content {max-height: 200px;max-width: 100%;overflow: auto;}#sk-container-id-1 input.sk-toggleable__control:checked~label.sk-toggleable__label-arrow:before {content: \"▾\";}#sk-container-id-1 div.sk-estimator input.sk-toggleable__control:checked~label.sk-toggleable__label {background-color: #d4ebff;}#sk-container-id-1 div.sk-label input.sk-toggleable__control:checked~label.sk-toggleable__label {background-color: #d4ebff;}#sk-container-id-1 input.sk-hidden--visually {border: 0;clip: rect(1px 1px 1px 1px);clip: rect(1px, 1px, 1px, 1px);height: 1px;margin: -1px;overflow: hidden;padding: 0;position: absolute;width: 1px;}#sk-container-id-1 div.sk-estimator {font-family: monospace;background-color: #f0f8ff;border: 1px dotted black;border-radius: 0.25em;box-sizing: border-box;margin-bottom: 0.5em;}#sk-container-id-1 div.sk-estimator:hover {background-color: #d4ebff;}#sk-container-id-1 div.sk-parallel-item::after {content: \"\";width: 100%;border-bottom: 1px solid gray;flex-grow: 1;}#sk-container-id-1 div.sk-label:hover label.sk-toggleable__label {background-color: #d4ebff;}#sk-container-id-1 div.sk-serial::before {content: \"\";position: absolute;border-left: 1px solid gray;box-sizing: border-box;top: 0;bottom: 0;left: 50%;z-index: 0;}#sk-container-id-1 div.sk-serial {display: flex;flex-direction: column;align-items: center;background-color: white;padding-right: 0.2em;padding-left: 0.2em;position: relative;}#sk-container-id-1 div.sk-item {position: relative;z-index: 1;}#sk-container-id-1 div.sk-parallel {display: flex;align-items: stretch;justify-content: center;background-color: white;position: relative;}#sk-container-id-1 div.sk-item::before, #sk-container-id-1 div.sk-parallel-item::before {content: \"\";position: absolute;border-left: 1px solid gray;box-sizing: border-box;top: 0;bottom: 0;left: 50%;z-index: -1;}#sk-container-id-1 div.sk-parallel-item {display: flex;flex-direction: column;z-index: 1;position: relative;background-color: white;}#sk-container-id-1 div.sk-parallel-item:first-child::after {align-self: flex-end;width: 50%;}#sk-container-id-1 div.sk-parallel-item:last-child::after {align-self: flex-start;width: 50%;}#sk-container-id-1 div.sk-parallel-item:only-child::after {width: 0;}#sk-container-id-1 div.sk-dashed-wrapped {border: 1px dashed gray;margin: 0 0.4em 0.5em 0.4em;box-sizing: border-box;padding-bottom: 0.4em;background-color: white;}#sk-container-id-1 div.sk-label label {font-family: monospace;font-weight: bold;display: inline-block;line-height: 1.2em;}#sk-container-id-1 div.sk-label-container {text-align: center;}#sk-container-id-1 div.sk-container {/* jupyter's `normalize.less` sets `[hidden] { display: none; }` but bootstrap.min.css set `[hidden] { display: none !important; }` so we also need the `!important` here to be able to override the default hidden behavior on the sphinx rendered scikit-learn.org. See: https://github.com/scikit-learn/scikit-learn/issues/21755 */display: inline-block !important;position: relative;}#sk-container-id-1 div.sk-text-repr-fallback {display: none;}</style><div id=\"sk-container-id-1\" class=\"sk-top-container\"><div class=\"sk-text-repr-fallback\"><pre>LogisticRegression()</pre><b>In a Jupyter environment, please rerun this cell to show the HTML representation or trust the notebook. <br />On GitHub, the HTML representation is unable to render, please try loading this page with nbviewer.org.</b></div><div class=\"sk-container\" hidden><div class=\"sk-item\"><div class=\"sk-estimator sk-toggleable\"><input class=\"sk-toggleable__control sk-hidden--visually\" id=\"sk-estimator-id-1\" type=\"checkbox\" checked><label for=\"sk-estimator-id-1\" class=\"sk-toggleable__label sk-toggleable__label-arrow\">LogisticRegression</label><div class=\"sk-toggleable__content\"><pre>LogisticRegression()</pre></div></div></div></div></div>"
      ],
      "text/plain": [
       "LogisticRegression()"
      ]
     },
     "execution_count": 9,
     "metadata": {},
     "output_type": "execute_result"
    }
   ],
   "source": [
    "# Instantiate a LogisticRegression classifier with default parameter values\n",
    "logreg = LogisticRegression()\n",
    "\n",
    "# Fit logreg to the train set\n",
    "logreg.fit(rescaledX_train, y_train)\n"
   ]
  },
  {
   "cell_type": "markdown",
   "id": "fcd90948",
   "metadata": {
    "papermill": {
     "duration": 0.009843,
     "end_time": "2024-07-07T05:52:26.477890",
     "exception": false,
     "start_time": "2024-07-07T05:52:26.468047",
     "status": "completed"
    },
    "tags": []
   },
   "source": [
    "# Evaluate the Model"
   ]
  },
  {
   "cell_type": "code",
   "execution_count": 10,
   "id": "0fc32a1a",
   "metadata": {
    "execution": {
     "iopub.execute_input": "2024-07-07T05:52:26.499399Z",
     "iopub.status.busy": "2024-07-07T05:52:26.498888Z",
     "iopub.status.idle": "2024-07-07T05:52:26.507867Z",
     "shell.execute_reply": "2024-07-07T05:52:26.506868Z"
    },
    "papermill": {
     "duration": 0.02252,
     "end_time": "2024-07-07T05:52:26.510308",
     "exception": false,
     "start_time": "2024-07-07T05:52:26.487788",
     "status": "completed"
    },
    "tags": []
   },
   "outputs": [
    {
     "name": "stdout",
     "output_type": "stream",
     "text": [
      "[[203   1]\n",
      " [  1 257]]\n"
     ]
    }
   ],
   "source": [
    "# Use logreg to predict instances from the training set\n",
    "y_train_pred = logreg.predict(rescaledX_train)\n",
    "\n",
    "# Print the confusion matrix of the logreg model\n",
    "print(confusion_matrix(y_train, y_train_pred))\n"
   ]
  },
  {
   "cell_type": "markdown",
   "id": "e8bb0960",
   "metadata": {
    "papermill": {
     "duration": 0.009165,
     "end_time": "2024-07-07T05:52:26.529041",
     "exception": false,
     "start_time": "2024-07-07T05:52:26.519876",
     "status": "completed"
    },
    "tags": []
   },
   "source": [
    "# Perform Grid Search for Hyperparameter Tuning"
   ]
  },
  {
   "cell_type": "code",
   "execution_count": 11,
   "id": "7f5b3a1d",
   "metadata": {
    "execution": {
     "iopub.execute_input": "2024-07-07T05:52:26.550238Z",
     "iopub.status.busy": "2024-07-07T05:52:26.549752Z",
     "iopub.status.idle": "2024-07-07T05:52:26.555159Z",
     "shell.execute_reply": "2024-07-07T05:52:26.554111Z"
    },
    "papermill": {
     "duration": 0.019752,
     "end_time": "2024-07-07T05:52:26.558401",
     "exception": false,
     "start_time": "2024-07-07T05:52:26.538649",
     "status": "completed"
    },
    "tags": []
   },
   "outputs": [],
   "source": [
    "import warnings\n",
    "\n",
    "# Suppress all warnings\n",
    "warnings.filterwarnings(\"ignore\")\n"
   ]
  },
  {
   "cell_type": "code",
   "execution_count": 12,
   "id": "79a4e12e",
   "metadata": {
    "execution": {
     "iopub.execute_input": "2024-07-07T05:52:26.579642Z",
     "iopub.status.busy": "2024-07-07T05:52:26.579058Z",
     "iopub.status.idle": "2024-07-07T05:52:27.693326Z",
     "shell.execute_reply": "2024-07-07T05:52:27.692307Z"
    },
    "papermill": {
     "duration": 1.127956,
     "end_time": "2024-07-07T05:52:27.696050",
     "exception": false,
     "start_time": "2024-07-07T05:52:26.568094",
     "status": "completed"
    },
    "tags": []
   },
   "outputs": [
    {
     "name": "stdout",
     "output_type": "stream",
     "text": [
      "Best: 0.818163 using {'max_iter': 100, 'tol': 0.01}\n"
     ]
    }
   ],
   "source": [
    "# Define the grid of values for tol and max_iter\n",
    "tol = [0.01, 0.001, 0.0001]\n",
    "max_iter = [100, 150, 200]\n",
    "\n",
    "# Create a dictionary where tol and max_iter are keys and the lists of their values are the corresponding values\n",
    "param_grid = dict(tol=tol, max_iter=max_iter)\n",
    "\n",
    "# Instantiate GridSearchCV with the required parameters\n",
    "grid_model = GridSearchCV(estimator=logreg, param_grid=param_grid, cv=5)\n",
    "\n",
    "# Fit grid_model to the data\n",
    "grid_model_result = grid_model.fit(rescaledX_train, y_train)\n",
    "\n",
    "# Summarize results\n",
    "best_train_score, best_train_params = grid_model_result.best_score_, grid_model_result.best_params_\n",
    "print(\"Best: %f using %s\" % (best_train_score, best_train_params))\n"
   ]
  },
  {
   "cell_type": "markdown",
   "id": "3c1d5449",
   "metadata": {
    "papermill": {
     "duration": 0.010065,
     "end_time": "2024-07-07T05:52:27.715906",
     "exception": false,
     "start_time": "2024-07-07T05:52:27.705841",
     "status": "completed"
    },
    "tags": []
   },
   "source": [
    "# Evaluate the Best Model on the Test Set"
   ]
  },
  {
   "cell_type": "code",
   "execution_count": 13,
   "id": "a57d39c3",
   "metadata": {
    "execution": {
     "iopub.execute_input": "2024-07-07T05:52:27.736815Z",
     "iopub.status.busy": "2024-07-07T05:52:27.736321Z",
     "iopub.status.idle": "2024-07-07T05:52:27.747112Z",
     "shell.execute_reply": "2024-07-07T05:52:27.746075Z"
    },
    "papermill": {
     "duration": 0.024446,
     "end_time": "2024-07-07T05:52:27.749915",
     "exception": false,
     "start_time": "2024-07-07T05:52:27.725469",
     "status": "completed"
    },
    "tags": []
   },
   "outputs": [
    {
     "name": "stdout",
     "output_type": "stream",
     "text": [
      "Accuracy of logistic regression classifier:  0.793859649122807\n"
     ]
    }
   ],
   "source": [
    "# Extract the best model and evaluate it on the test set\n",
    "best_model = grid_model_result.best_estimator_\n",
    "best_score = best_model.score(rescaledX_test, y_test)\n",
    "\n",
    "print(\"Accuracy of logistic regression classifier: \", best_score)\n"
   ]
  },
  {
   "cell_type": "code",
   "execution_count": null,
   "id": "eb6c7b85",
   "metadata": {
    "papermill": {
     "duration": 0.009804,
     "end_time": "2024-07-07T05:52:27.770070",
     "exception": false,
     "start_time": "2024-07-07T05:52:27.760266",
     "status": "completed"
    },
    "tags": []
   },
   "outputs": [],
   "source": []
  }
 ],
 "metadata": {
  "kaggle": {
   "accelerator": "none",
   "dataSources": [
    {
     "datasetId": 5342249,
     "sourceId": 8874963,
     "sourceType": "datasetVersion"
    }
   ],
   "dockerImageVersionId": 30732,
   "isGpuEnabled": false,
   "isInternetEnabled": true,
   "language": "python",
   "sourceType": "notebook"
  },
  "kernelspec": {
   "display_name": "Python 3",
   "language": "python",
   "name": "python3"
  },
  "language_info": {
   "codemirror_mode": {
    "name": "ipython",
    "version": 3
   },
   "file_extension": ".py",
   "mimetype": "text/x-python",
   "name": "python",
   "nbconvert_exporter": "python",
   "pygments_lexer": "ipython3",
   "version": "3.10.13"
  },
  "papermill": {
   "default_parameters": {},
   "duration": 6.795992,
   "end_time": "2024-07-07T05:52:28.305193",
   "environment_variables": {},
   "exception": null,
   "input_path": "__notebook__.ipynb",
   "output_path": "__notebook__.ipynb",
   "parameters": {},
   "start_time": "2024-07-07T05:52:21.509201",
   "version": "2.5.0"
  }
 },
 "nbformat": 4,
 "nbformat_minor": 5
}
